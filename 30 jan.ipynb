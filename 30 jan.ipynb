{
 "cells": [
  {
   "cell_type": "markdown",
   "id": "887f7ba2-c7f6-4051-a89f-4ef9f9ca62e8",
   "metadata": {},
   "source": [
    "## \n",
    "1. Write a program to accept percentage from the user and display the grade according to the following \n",
    "criteria: \n",
    "Marks \n",
    "Grade \n",
    ">90 \n",
    "A \n",
    ">80 and <=90 \n",
    "B \n",
    ">=60 and <=80 \n",
    "C \n",
    "below 60 \n",
    "D \n"
   ]
  },
  {
   "cell_type": "code",
   "execution_count": null,
   "id": "fd9ee0ab-cc60-450e-a700-2ab134fe8417",
   "metadata": {},
   "outputs": [],
   "source": [
    "def calculate_grade(percentage):\n",
    "    if percentage > 90:\n",
    "        return \"A\"\n",
    "    elif percentage > 80:\n",
    "        return \"B\"\n",
    "    elif percentage >= 60:\n",
    "        return \"C\"\n",
    "    else:\n",
    "        return \"D\"\n",
    "\n",
    "try:\n",
    "    percentage = float(input(\"Enter the percentage: \"))\n",
    "    if 0 <= percentage <= 100:\n",
    "        grade = calculate_grade(percentage)\n",
    "        print(f\"Grade: {grade}\")\n",
    "    else:\n",
    "        print(\"Invalid percentage. Please enter a value between 0 and 100.\")\n",
    "except ValueError:\n",
    "    print(\"Invalid input. Please enter a valid percentage.\")\n"
   ]
  },
  {
   "cell_type": "markdown",
   "id": "1fea41ea-8cc1-41c5-8a40-b15755af580c",
   "metadata": {},
   "source": [
    "## 2. Write a program to accept the cost price of a bike and display the road tax to be paid according to the \n",
    "following criteria: \n",
    "Tax \n",
    "15% \n",
    "10% \n",
    "5% \n",
    "Cost Price(in Rs) \n",
    ">100000 \n",
    "5 \n",
    "50000 and <= 100000 \n",
    "<= 50000 \n"
   ]
  },
  {
   "cell_type": "code",
   "execution_count": null,
   "id": "ccf398fa-ede7-4349-bd35-b38923b08cc7",
   "metadata": {},
   "outputs": [],
   "source": [
    "def calculate_road_tax(cost_price):\n",
    "    if cost_price > 100000:\n",
    "        return cost_price * 0.15\n",
    "    elif cost_price > 50000:\n",
    "        return cost_price * 0.10\n",
    "    else:\n",
    "        return cost_price * 0.05\n",
    "\n",
    "try:\n",
    "    cost_price = float(input(\"Enter the cost price of the bike (in Rs): \"))\n",
    "    if cost_price > 0:\n",
    "        road_tax = calculate_road_tax(cost_price)\n",
    "        print(f\"Road Tax to be paid: Rs {road_tax:.2f}\")\n",
    "    else:\n",
    "        print(\"Invalid cost price. Please enter a positive value.\")\n",
    "except ValueError:\n",
    "    print(\"Invalid input. Please enter a valid cost price.\")\n"
   ]
  },
  {
   "cell_type": "markdown",
   "id": "d19f1e4c-65d3-4e13-96a2-fa8a152c6e6c",
   "metadata": {},
   "source": [
    "## 3. Accept any city from the user and display monuments of that city. \n",
    "City-Monument,\n",
    "Delhi-Red Fort,\n",
    "Agra-Taj Mahal,\n",
    "Jaipur-Jal Mahal.\n",
    " \n"
   ]
  },
  {
   "cell_type": "code",
   "execution_count": null,
   "id": "ba1e1f6b-e23a-420d-89f5-6229bc1c9370",
   "metadata": {},
   "outputs": [],
   "source": [
    "city_monuments = {\n",
    "    \"Delhi\": [\"Red Fort\", \"Taj Mahal\"],\n",
    "    \"Agra\": [\"Taj Mahal\"],\n",
    "    \"Jaipur\": [\"Jal Mahal\"]\n",
    "}\n",
    "\n",
    "try:\n",
    "    city = input(\"Enter the name of a city: \")\n",
    "    city = city.capitalize()  # Capitalize the first letter for consistency\n",
    "\n",
    "    if city in city_monuments:\n",
    "        monuments = city_monuments[city]\n",
    "        print(f\"Monuments in {city}:\")\n",
    "        for monument in monuments:\n",
    "            print(monument)\n",
    "    else:\n",
    "        print(\"Monuments not available for this city.\")\n",
    "except Exception as e:\n",
    "    print(\"An error occurred:\", e)\n"
   ]
  },
  {
   "cell_type": "markdown",
   "id": "1d6528ad-8948-45b4-b77f-f7e4ea02b647",
   "metadata": {},
   "source": [
    "## 4. Check how many times a given number can be divided by 3 before it is less than or equal to 10."
   ]
  },
  {
   "cell_type": "code",
   "execution_count": null,
   "id": "5fc857ba-6178-4f03-bea9-4194eb9c55ed",
   "metadata": {},
   "outputs": [],
   "source": [
    "try:\n",
    "    number = float(input(\"Enter a number: \"))\n",
    "    \n",
    "    count = 0\n",
    "    while number > 10:\n",
    "        number /= 3\n",
    "        count += 1\n",
    "    \n",
    "    print(f\"The number can be divided by 3 {count} times before it's less than or equal to 10.\")\n",
    "except ValueError:\n",
    "    print(\"Invalid input. Please enter a valid number.\")\n"
   ]
  },
  {
   "cell_type": "markdown",
   "id": "6d2a0c1a-6a23-48ff-9cac-4983ffe0791f",
   "metadata": {},
   "source": [
    "## 5. Why and When to Use while Loop in Python give a detailed description with example \n"
   ]
  },
  {
   "cell_type": "markdown",
   "id": "486c8316-b371-44fe-875d-b41c5ac7ee40",
   "metadata": {},
   "source": [
    "## \n",
    "A while loop in Python is used to repeatedly execute a block of code as long as a certain condition remains true. It's especially useful when you want to perform an action multiple times based on a condition without knowing beforehand how many iterations will be needed.\n",
    "\n",
    "Here's a detailed description of why and when to use a while loop in Python, along with an example:\n",
    "\n",
    "**Why to Use a While Loop:**\n",
    "1. **Dynamic Looping:** Unlike a `for` loop, which requires you to know the exact number of iterations in advance, a `while` loop allows you to loop dynamically based on a condition that can change during the loop's execution.\n",
    "2. **Unknown Iteration Count:** When the number of iterations is not fixed or predictable, a `while` loop is a better choice.\n",
    "3. **User Interaction:** When you want to interact with the user and wait for certain conditions to be met before stopping, a `while` loop can be used to repeatedly check those conditions.\n",
    "4. **Event Handling:** In applications that respond to events, a `while` loop can listen for events and execute corresponding actions until a specific termination event occurs.\n",
    "\n",
    "**When to Use a While Loop:**\n",
    "1. **Iterating until a condition is met:** If you need to iterate until a specific condition becomes false, a `while` loop is appropriate.\n",
    "2. **Iterating with user input:** When you want to repeatedly interact with the user until they provide a specific input, a `while` loop can manage the input loop.\n",
    "3. **Data validation:** For data validation purposes, you might use a `while` loop to repeatedly prompt the user for valid input.\n",
    "4. **Dynamic calculations:** When performing calculations that require adjusting values during each iteration, a `while` loop allows for dynamic adjustments.\n",
    "\n",
    "**Example: Calculating Factorial Using a While Loop:**\n",
    "Let's use a `while` loop to calculate the factorial of a given number.\n",
    "\n",
    "\n",
    " false to prevent the loop from running indefinitely."
   ]
  },
  {
   "cell_type": "code",
   "execution_count": null,
   "id": "1ba6d02c-def1-4904-a770-0b09d61f2a13",
   "metadata": {},
   "outputs": [],
   "source": [
    "try:\n",
    "    num = int(input(\"Enter a positive integer: \"))\n",
    "    \n",
    "    if num < 0:\n",
    "        print(\"Factorial is not defined for negative numbers.\")\n",
    "    else:\n",
    "        factorial = 1\n",
    "        while num > 0:\n",
    "            factorial *= num\n",
    "            num -= 1\n",
    "        print(f\"The factorial is {factorial}\")\n",
    "except ValueError:\n",
    "    print(\"Invalid input. Please enter a valid positive integer.\")\n"
   ]
  },
  {
   "cell_type": "markdown",
   "id": "e4669605-c9de-4dd3-b13b-7628891afaca",
   "metadata": {},
   "source": [
    "## \n",
    "In this example, the `while` loop keeps multiplying the `factorial` by the current value of `num` until `num` becomes zero. The loop dynamically runs until the condition `num > 0` remains true. This is a classic example of when a `while` loop is beneficial due to the changing nature of the loop's termination condition.\n",
    "\n",
    "Remember that using a `while` loop requires careful handling of the loop condition to avoid infinite loops. It's essential to ensure that the loop condition eventually becomes"
   ]
  },
  {
   "cell_type": "markdown",
   "id": "8dd5c48f-d31e-4e37-b4b2-db6536b47e21",
   "metadata": {},
   "source": [
    "## 6. Use nested while loop to print 3 different pattern. \n"
   ]
  },
  {
   "cell_type": "markdown",
   "id": "4e5ba075-ae63-4a6d-8b88-6158dbb05ac9",
   "metadata": {},
   "source": [
    "## pattern 1:"
   ]
  },
  {
   "cell_type": "code",
   "execution_count": null,
   "id": "5ca7f225-f748-4525-9782-24688b481b43",
   "metadata": {},
   "outputs": [],
   "source": [
    "*****\n",
    "****\n",
    "***\n",
    "**\n",
    "*\n"
   ]
  },
  {
   "cell_type": "code",
   "execution_count": null,
   "id": "12782818-eca1-4ad2-bad0-c047b2ba54ed",
   "metadata": {},
   "outputs": [],
   "source": [
    "n = 5\n",
    "i = n\n",
    "\n",
    "while i >= 1:\n",
    "    j = 1\n",
    "    while j <= i:\n",
    "        print(\"*\", end=\"\")\n",
    "        j += 1\n",
    "    print()\n",
    "    i -= 1\n"
   ]
  },
  {
   "cell_type": "markdown",
   "id": "0238f173-86aa-4001-9017-fa1b9cde2b9d",
   "metadata": {},
   "source": [
    "## pattern 2:"
   ]
  },
  {
   "cell_type": "code",
   "execution_count": null,
   "id": "4090f58f-772f-45d5-9276-87e265f543d2",
   "metadata": {},
   "outputs": [],
   "source": [
    "1\n",
    "22\n",
    "333\n",
    "4444\n",
    "55555\n"
   ]
  },
  {
   "cell_type": "code",
   "execution_count": null,
   "id": "aed1885d-b060-479f-8225-8815e090bb05",
   "metadata": {},
   "outputs": [],
   "source": [
    "n = 5\n",
    "i = 1\n",
    "\n",
    "while i <= n:\n",
    "    j = 1\n",
    "    while j <= i:\n",
    "        print(i, end=\"\")\n",
    "        j += 1\n",
    "    print()\n",
    "    i += 1\n"
   ]
  },
  {
   "cell_type": "markdown",
   "id": "222a7c9a-b23a-4c60-b9e7-d98ecf329bd9",
   "metadata": {},
   "source": [
    "## pattern 3:"
   ]
  },
  {
   "cell_type": "code",
   "execution_count": null,
   "id": "eadc5c70-b5b4-42d5-af06-b901eb8b1a81",
   "metadata": {},
   "outputs": [],
   "source": [
    "1\n",
    "12\n",
    "123\n",
    "1234\n",
    "12345\n"
   ]
  },
  {
   "cell_type": "code",
   "execution_count": null,
   "id": "6b37dd21-801f-4f2d-b82d-2fd8aae18eca",
   "metadata": {},
   "outputs": [],
   "source": [
    "n = 5\n",
    "i = 1\n",
    "\n",
    "while i <= n:\n",
    "    j = 1\n",
    "    while j <= i:\n",
    "        print(j, end=\"\")\n",
    "        j += 1\n",
    "    print()\n",
    "    i += 1\n"
   ]
  },
  {
   "cell_type": "markdown",
   "id": "7b5aa4ae-8e66-42b8-ba1d-e4744f3a1702",
   "metadata": {},
   "source": [
    "## 7. Reverse a while loop to display numbers from 10 to 1."
   ]
  },
  {
   "cell_type": "code",
   "execution_count": 3,
   "id": "d4896355-4ca1-4c39-9e78-d0a61a5b02b2",
   "metadata": {},
   "outputs": [
    {
     "name": "stdout",
     "output_type": "stream",
     "text": [
      "10\n",
      "9\n",
      "8\n",
      "7\n",
      "6\n",
      "5\n",
      "4\n",
      "3\n",
      "2\n",
      "1\n"
     ]
    }
   ],
   "source": [
    "num = 10\n",
    "\n",
    "while num >= 1:\n",
    "    print(num)\n",
    "    num -= 1\n"
   ]
  },
  {
   "cell_type": "markdown",
   "id": "e4dd014d-80d3-407f-ac99-6d62b34b1aa0",
   "metadata": {},
   "source": [
    "## 7. Reverse a while loop to display numbers from 10 to 1."
   ]
  },
  {
   "cell_type": "code",
   "execution_count": 2,
   "id": "f719f4a8-8841-4edd-a89f-c25e006a9e7a",
   "metadata": {},
   "outputs": [
    {
     "name": "stdout",
     "output_type": "stream",
     "text": [
      "10\n",
      "9\n",
      "8\n",
      "7\n",
      "6\n",
      "5\n",
      "4\n",
      "3\n",
      "2\n",
      "1\n"
     ]
    }
   ],
   "source": [
    "num = 10\n",
    "\n",
    "while num >= 1:\n",
    "    print(num)\n",
    "    num -= 1\n"
   ]
  },
  {
   "cell_type": "code",
   "execution_count": null,
   "id": "37b70221-ba75-4cbe-bd04-2855202d27e4",
   "metadata": {},
   "outputs": [],
   "source": []
  }
 ],
 "metadata": {
  "kernelspec": {
   "display_name": "Python 3 (ipykernel)",
   "language": "python",
   "name": "python3"
  },
  "language_info": {
   "codemirror_mode": {
    "name": "ipython",
    "version": 3
   },
   "file_extension": ".py",
   "mimetype": "text/x-python",
   "name": "python",
   "nbconvert_exporter": "python",
   "pygments_lexer": "ipython3",
   "version": "3.10.8"
  }
 },
 "nbformat": 4,
 "nbformat_minor": 5
}
