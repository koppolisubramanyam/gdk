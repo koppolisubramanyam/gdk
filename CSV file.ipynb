{
 "cells": [
  {
   "cell_type": "markdown",
   "id": "09bdcaa7-4989-4502-9001-b3da569150ef",
   "metadata": {},
   "source": [
    "# Q1. Write a python program to extract the video URL of the first five videos."
   ]
  },
  {
   "cell_type": "markdown",
   "id": "6bb6e0aa-d814-46ef-b0ca-66b909bb9b6c",
   "metadata": {},
   "source": [
    "# \n",
    "To extract video URLs from a webpage, you can use a combination of libraries like requests and BeautifulSoup in Python. For this example, I'll assume you want to extract video URLs from a YouTube search results page. You can modify the code accordingly for other websites.# "
   ]
  },
  {
   "cell_type": "code",
   "execution_count": null,
   "id": "747bfa3a-a9d6-4695-853b-1afeebabb1d9",
   "metadata": {},
   "outputs": [],
   "source": [
    "import requests\n",
    "from bs4 import BeautifulSoup\n",
    "\n",
    "def extract_video_urls(search_query, num_videos=5):\n",
    "    base_url = f\"https://www.youtube.com/results?search_query={search_query}\"\n",
    "    response = requests.get(base_url)\n",
    "    soup = BeautifulSoup(response.text, \"html.parser\")\n",
    "\n",
    "    video_urls = []\n",
    "    for link in soup.find_all(\"a\", {\"id\": \"thumbnail\"}):\n",
    "        video_url = \"https://www.youtube.com\" + link.get(\"href\")\n",
    "        video_urls.append(video_url)\n",
    "        if len(video_urls) == num_videos:\n",
    "            break\n",
    "\n",
    "    return video_urls\n",
    "\n",
    "if __name__ == \"__main__\":\n",
    "    search_query = input(\"Enter the YouTube search query: \")\n",
    "    video_urls = extract_video_urls(search_query, num_videos=5)\n",
    "\n",
    "    print(\"Video URLs:\")\n",
    "    for index, url in enumerate(video_urls, start=1):\n",
    "        print(f\"{index}. {url}\")\n"
   ]
  },
  {
   "cell_type": "markdown",
   "id": "a591c924-5647-44e1-af5f-5a4746841b24",
   "metadata": {},
   "source": [
    "## Q2. Write a python program to extract the URL of the video thumbnails of the first five videos."
   ]
  },
  {
   "cell_type": "code",
   "execution_count": null,
   "id": "676073d5-129b-4c9e-aaaf-f7c13f00907d",
   "metadata": {},
   "outputs": [],
   "source": [
    "import requests\n",
    "from bs4 import BeautifulSoup\n",
    "\n",
    "def extract_thumbnail_urls(search_query, num_videos=5):\n",
    "    base_url = f\"https://www.youtube.com/results?search_query={search_query}\"\n",
    "    response = requests.get(base_url)\n",
    "    soup = BeautifulSoup(response.text, \"html.parser\")\n",
    "\n",
    "    thumbnail_urls = []\n",
    "    for img in soup.find_all(\"img\", {\"class\": \"style-scope yt-img-shadow\"}):\n",
    "        thumbnail_url = img.get(\"src\")\n",
    "        if thumbnail_url and \"hqdefault\" in thumbnail_url:\n",
    "            thumbnail_urls.append(thumbnail_url)\n",
    "            if len(thumbnail_urls) == num_videos:\n",
    "                break\n",
    "\n",
    "    return thumbnail_urls\n",
    "\n",
    "if __name__ == \"__main__\":\n",
    "    search_query = input(\"Enter the YouTube search query: \")\n",
    "    thumbnail_urls = extract_thumbnail_urls(search_query, num_videos=5)\n",
    "\n",
    "    print(\"Thumbnail URLs:\")\n",
    "    for index, url in enumerate(thumbnail_urls, start=1):\n",
    "        print(f\"{index}. {url}\")\n"
   ]
  },
  {
   "cell_type": "markdown",
   "id": "4a27d7c7-3688-49cc-8bd6-f5b57e183439",
   "metadata": {},
   "source": [
    "## Q3. Write a python program to extract the title of the first five videos."
   ]
  },
  {
   "cell_type": "code",
   "execution_count": null,
   "id": "5efaf1e0-6636-467e-a600-5cbefbb5a611",
   "metadata": {},
   "outputs": [],
   "source": [
    "import requests\n",
    "from bs4 import BeautifulSoup\n",
    "\n",
    "def extract_video_titles(search_query, num_videos=5):\n",
    "    base_url = f\"https://www.youtube.com/results?search_query={search_query}\"\n",
    "    response = requests.get(base_url)\n",
    "    soup = BeautifulSoup(response.text, \"html.parser\")\n",
    "\n",
    "    video_titles = []\n",
    "    for title in soup.find_all(\"a\", {\"id\": \"video-title\"}):\n",
    "        video_title = title.get(\"title\")\n",
    "        if video_title:\n",
    "            video_titles.append(video_title)\n",
    "            if len(video_titles) == num_videos:\n",
    "                break\n",
    "\n",
    "    return video_titles\n",
    "\n",
    "if __name__ == \"__main__\":\n",
    "    search_query = input(\"Enter the YouTube search query: \")\n",
    "    video_titles = extract_video_titles(search_query, num_videos=5)\n",
    "\n",
    "    print(\"Video Titles:\")\n",
    "    for index, title in enumerate(video_titles, start=1):\n",
    "        print(f\"{index}. {title}\")\n"
   ]
  },
  {
   "cell_type": "markdown",
   "id": "f4089fd0-06ae-4d38-9938-5ffc96844ae5",
   "metadata": {},
   "source": [
    "## Q4. Write a python program to extract the number of views of the first five videos."
   ]
  },
  {
   "cell_type": "code",
   "execution_count": null,
   "id": "62c346ad-2a43-462a-8c23-45a9e93772bb",
   "metadata": {},
   "outputs": [],
   "source": [
    "import requests\n",
    "from bs4 import BeautifulSoup\n",
    "\n",
    "def extract_view_counts(search_query, num_videos=5):\n",
    "    base_url = f\"https://www.youtube.com/results?search_query={search_query}\"\n",
    "    response = requests.get(base_url)\n",
    "    soup = BeautifulSoup(response.text, \"html.parser\")\n",
    "\n",
    "    view_counts = []\n",
    "    for span in soup.find_all(\"span\", {\"class\": \"style-scope ytd-video-meta-block\"}):\n",
    "        view_count_text = span.get_text(strip=True)\n",
    "        if \"views\" in view_count_text:\n",
    "            view_counts.append(view_count_text)\n",
    "            if len(view_counts) == num_videos:\n",
    "                break\n",
    "\n",
    "    return view_counts\n",
    "\n",
    "if __name__ == \"__main__\":\n",
    "    search_query = input(\"Enter the YouTube search query: \")\n",
    "    view_counts = extract_view_counts(search_query, num_videos=5)\n",
    "\n",
    "    print(\"View Counts:\")\n",
    "    for index, count in enumerate(view_counts, start=1):\n",
    "        print(f\"{index}. {count}\")\n"
   ]
  },
  {
   "cell_type": "markdown",
   "id": "b54dcc09-2313-4661-bd03-8aa4c62c80d7",
   "metadata": {},
   "source": [
    "## Q5. Write a python program to extract the time of posting of video for the first five videos."
   ]
  },
  {
   "cell_type": "code",
   "execution_count": null,
   "id": "cf976246-6643-4e94-b9f7-e98364553c5d",
   "metadata": {},
   "outputs": [],
   "source": [
    "import requests\n",
    "from bs4 import BeautifulSoup\n",
    "\n",
    "def extract_posting_times(search_query, num_videos=5):\n",
    "    base_url = f\"https://www.youtube.com/results?search_query={search_query}\"\n",
    "    response = requests.get(base_url)\n",
    "    soup = BeautifulSoup(response.text, \"html.parser\")\n",
    "\n",
    "    posting_times = []\n",
    "    for span in soup.find_all(\"span\", {\"class\": \"style-scope ytd-video-meta-block\"}):\n",
    "        time_text = span.get_text(strip=True)\n",
    "        if \"ago\" in time_text:\n",
    "            posting_times.append(time_text)\n",
    "            if len(posting_times) == num_videos:\n",
    "                break\n",
    "\n",
    "    return posting_times\n",
    "\n",
    "if __name__ == \"__main__\":\n",
    "    search_query = input(\"Enter the YouTube search query: \")\n",
    "    posting_times = extract_posting_times(search_query, num_videos=5)\n",
    "\n",
    "    print(\"Posting Times:\")\n",
    "    for index, time in enumerate(posting_times, start=1):\n",
    "        print(f\"{index}. {time}\")\n"
   ]
  }
 ],
 "metadata": {
  "kernelspec": {
   "display_name": "Python 3 (ipykernel)",
   "language": "python",
   "name": "python3"
  },
  "language_info": {
   "codemirror_mode": {
    "name": "ipython",
    "version": 3
   },
   "file_extension": ".py",
   "mimetype": "text/x-python",
   "name": "python",
   "nbconvert_exporter": "python",
   "pygments_lexer": "ipython3",
   "version": "3.10.8"
  }
 },
 "nbformat": 4,
 "nbformat_minor": 5
}
